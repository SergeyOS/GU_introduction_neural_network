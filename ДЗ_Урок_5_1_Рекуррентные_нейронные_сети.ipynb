{
  "nbformat": 4,
  "nbformat_minor": 0,
  "metadata": {
    "colab": {
      "name": "ДЗ Урок 5.1. Рекуррентные нейронные сети.ipynb",
      "provenance": []
    },
    "kernelspec": {
      "name": "python3",
      "display_name": "Python 3"
    },
    "accelerator": "GPU"
  },
  "cells": [
    {
      "cell_type": "code",
      "metadata": {
        "id": "hz1L7CGjWUg3",
        "colab_type": "code",
        "outputId": "1d77b4ed-1d62-4e02-f0f0-893bcd88ba06",
        "colab": {
          "base_uri": "https://localhost:8080/",
          "height": 34
        }
      },
      "source": [
        "# Подключение к Google drive\n",
        "\n",
        "from google.colab import drive\n",
        "drive.mount('/content/drive')"
      ],
      "execution_count": 1,
      "outputs": [
        {
          "output_type": "stream",
          "text": [
            "Drive already mounted at /content/drive; to attempt to forcibly remount, call drive.mount(\"/content/drive\", force_remount=True).\n"
          ],
          "name": "stdout"
        }
      ]
    },
    {
      "cell_type": "code",
      "metadata": {
        "id": "5eN9nD2aWkD7",
        "colab_type": "code",
        "colab": {}
      },
      "source": [
        "PATH = '/content/drive/My Drive/GU_neural_network/'"
      ],
      "execution_count": 0,
      "outputs": []
    },
    {
      "cell_type": "code",
      "metadata": {
        "id": "K_l2ZTmpkoDg",
        "colab_type": "code",
        "colab": {}
      },
      "source": [
        "import sys\n",
        "sys.path.append(PATH)"
      ],
      "execution_count": 0,
      "outputs": []
    },
    {
      "cell_type": "code",
      "metadata": {
        "id": "IZLFA4rmkpsX",
        "colab_type": "code",
        "outputId": "8d083b67-edc5-44d8-edfa-cf94ac10eab8",
        "colab": {
          "base_uri": "https://localhost:8080/",
          "height": 153
        }
      },
      "source": [
        "!pip install keras"
      ],
      "execution_count": 4,
      "outputs": [
        {
          "output_type": "stream",
          "text": [
            "Requirement already satisfied: keras in /usr/local/lib/python3.6/dist-packages (2.3.1)\n",
            "Requirement already satisfied: h5py in /usr/local/lib/python3.6/dist-packages (from keras) (2.10.0)\n",
            "Requirement already satisfied: numpy>=1.9.1 in /usr/local/lib/python3.6/dist-packages (from keras) (1.18.3)\n",
            "Requirement already satisfied: keras-applications>=1.0.6 in /usr/local/lib/python3.6/dist-packages (from keras) (1.0.8)\n",
            "Requirement already satisfied: six>=1.9.0 in /usr/local/lib/python3.6/dist-packages (from keras) (1.12.0)\n",
            "Requirement already satisfied: keras-preprocessing>=1.0.5 in /usr/local/lib/python3.6/dist-packages (from keras) (1.1.0)\n",
            "Requirement already satisfied: scipy>=0.14 in /usr/local/lib/python3.6/dist-packages (from keras) (1.4.1)\n",
            "Requirement already satisfied: pyyaml in /usr/local/lib/python3.6/dist-packages (from keras) (3.13)\n"
          ],
          "name": "stdout"
        }
      ]
    },
    {
      "cell_type": "markdown",
      "metadata": {
        "id": "1gNlrW9wWuef",
        "colab_type": "text"
      },
      "source": [
        "## Практическое задание\n",
        "\n",
        "<ol>\n",
        "    <li>Попробуйте изменить параметры нейронной сети работающей с датасетом imdb так, чтобы улучшить ее точность. Приложите анализ.<br><br>\n",
        "    </li> \n",
        "    \n",
        "</ol>"
      ]
    },
    {
      "cell_type": "markdown",
      "metadata": {
        "id": "RIeCJo37nQs8",
        "colab_type": "text"
      },
      "source": [
        "##Константы"
      ]
    },
    {
      "cell_type": "code",
      "metadata": {
        "id": "L-JOzmW5nQOo",
        "colab_type": "code",
        "colab": {}
      },
      "source": [
        "NUM_WORDS = 10000\n",
        "RANDOM_STATE = 1\n",
        "SKIP_TOP = 0\n",
        "MAX_LEN = 200"
      ],
      "execution_count": 0,
      "outputs": []
    },
    {
      "cell_type": "markdown",
      "metadata": {
        "id": "zaHYcAX3XWFO",
        "colab_type": "text"
      },
      "source": [
        "## Библотеки"
      ]
    },
    {
      "cell_type": "code",
      "metadata": {
        "id": "XsGXR_BhXW3-",
        "colab_type": "code",
        "outputId": "e5664d71-731d-4cbd-edc9-5a9406e09b25",
        "colab": {
          "base_uri": "https://localhost:8080/",
          "height": 34
        }
      },
      "source": [
        "import numpy as np\n",
        "import keras\n",
        "from keras.datasets import imdb\n",
        "from keras.preprocessing import sequence\n",
        "from keras.models import Sequential\n",
        "from keras.layers import Dense, Embedding, GlobalAveragePooling1D, LSTM\n",
        "from keras import regularizers\n",
        "import pickle\n",
        "\n",
        "import warnings\n",
        "warnings.filterwarnings(action='ignore', category=Warning)"
      ],
      "execution_count": 6,
      "outputs": [
        {
          "output_type": "stream",
          "text": [
            "Using TensorFlow backend.\n"
          ],
          "name": "stderr"
        }
      ]
    },
    {
      "cell_type": "code",
      "metadata": {
        "id": "u5lfXWFEl_Qv",
        "colab_type": "code",
        "colab": {}
      },
      "source": [
        "np.random.seed(RANDOM_STATE)"
      ],
      "execution_count": 0,
      "outputs": []
    },
    {
      "cell_type": "markdown",
      "metadata": {
        "id": "zquGhRiblKiu",
        "colab_type": "text"
      },
      "source": [
        "## Подготовка данных"
      ]
    },
    {
      "cell_type": "code",
      "metadata": {
        "id": "SA5dsdWSlJVy",
        "colab_type": "code",
        "colab": {}
      },
      "source": [
        "(x_train, y_train), (x_test, y_test) = imdb.load_data(path=\"imdb.npz\", \n",
        "                                                      num_words = NUM_WORDS, \n",
        "                                                      skip_top=SKIP_TOP, \n",
        "                                                      seed=RANDOM_STATE,\n",
        "                                                      oov_char=2)"
      ],
      "execution_count": 0,
      "outputs": []
    },
    {
      "cell_type": "code",
      "metadata": {
        "id": "uPfdc8AepByP",
        "colab_type": "code",
        "outputId": "db4a8669-536f-4624-9ff2-d078dbbec21c",
        "colab": {
          "base_uri": "https://localhost:8080/",
          "height": 34
        }
      },
      "source": [
        "x_train.shape, x_test.shape"
      ],
      "execution_count": 9,
      "outputs": [
        {
          "output_type": "execute_result",
          "data": {
            "text/plain": [
              "((25000,), (25000,))"
            ]
          },
          "metadata": {
            "tags": []
          },
          "execution_count": 9
        }
      ]
    },
    {
      "cell_type": "code",
      "metadata": {
        "id": "N0Wr2VXct1Gc",
        "colab_type": "code",
        "colab": {}
      },
      "source": [
        "x_train = sequence.pad_sequences(x_train, maxlen=MAX_LEN)\n",
        "x_test = sequence.pad_sequences(x_test, maxlen=MAX_LEN)"
      ],
      "execution_count": 0,
      "outputs": []
    },
    {
      "cell_type": "markdown",
      "metadata": {
        "id": "6bHTaCRxoQK9",
        "colab_type": "text"
      },
      "source": [
        "## Дополнительные функции"
      ]
    },
    {
      "cell_type": "code",
      "metadata": {
        "id": "poWUcuBnoOt_",
        "colab_type": "code",
        "colab": {}
      },
      "source": [
        "import matplotlib.pyplot as plt\n",
        "\n",
        "def plot_history(history):\n",
        "  fig = plt.figure()\n",
        "  fig.set_size_inches(15, 15)\n",
        "\n",
        "  ax_1 = fig.add_subplot(2, 2, 1)\n",
        "  ax_2 = fig.add_subplot(2, 2, 2)\n",
        "  ax_3 = fig.add_subplot(2, 2, 3)\n",
        "  ax_4 = fig.add_subplot(2, 2, 4)\n",
        "\n",
        "\n",
        "  for key in history.keys():\n",
        "    ax_1.plot(history[key].history['accuracy'], label=key)\n",
        "    ax_2.plot(history[key].history['val_accuracy'], label=key)\n",
        "    ax_3.plot(history[key].history['loss'], label=key)\n",
        "    ax_4.plot(history[key].history['val_loss'], label=key)\n",
        "\n",
        "  ax_1.set(title = 'Model accuracy on train data', label='Accuracy', xlabel='Epoch')\n",
        "  ax_1.legend(loc='lower right')\n",
        "  ax_2.set(title = 'Model accuracy on test data', label='Accuracy', xlabel='Epoch')\n",
        "  ax_2.legend(loc='lower right')\n",
        "  ax_3.set(title = 'Model loss on train data', label='loss', xlabel='Epoch')\n",
        "  ax_3.legend(loc='upper right')\n",
        "  ax_4.set(title = 'Model loss on test data', label='loss', xlabel='Epoch')\n",
        "  ax_4.legend(loc='upper right')\n",
        "\n",
        "  plt.show()"
      ],
      "execution_count": 0,
      "outputs": []
    },
    {
      "cell_type": "markdown",
      "metadata": {
        "id": "3DLfp3uEXBzm",
        "colab_type": "text"
      },
      "source": [
        "## 1. Обучение нейронной сети работающей с датасетом imdb"
      ]
    },
    {
      "cell_type": "code",
      "metadata": {
        "id": "-W7aIJfKn9Bk",
        "colab_type": "code",
        "colab": {}
      },
      "source": [
        "def baseline_model(name='baseline', vocab_size=NUM_WORDS, l1=0.01):\n",
        "  # Build the model.\n",
        "  size = 8\n",
        "  model = Sequential(name=name)\n",
        "  \n",
        "  model.add(Embedding(input_dim=vocab_size, output_dim=size))\n",
        "  model.add(GlobalAveragePooling1D())\n",
        "  model.add(Dense(size , activation='tanh', kernel_regularizer=regularizers.l1(l1)))\n",
        "  model.add(Dense(1, activation='tanh'))\n",
        "\n",
        "\n",
        "  # Compile the model\n",
        "  model.compile(optimizer='adam',\n",
        "              loss='binary_crossentropy',\n",
        "              metrics=['accuracy'])\n",
        "  return model"
      ],
      "execution_count": 0,
      "outputs": []
    },
    {
      "cell_type": "code",
      "metadata": {
        "id": "3LSL8wBNDUQ6",
        "colab_type": "code",
        "colab": {}
      },
      "source": [
        "def lstm_model(name='lstm', max_features=NUM_WORDS):\n",
        "    # Build the model.\n",
        "  size = 128\n",
        "  model = Sequential(name=name)\n",
        "  \n",
        "  model.add(Embedding(max_features, size))\n",
        "  model.add(LSTM(size, dropout=0.2, recurrent_dropout=0.2))\n",
        "  model.add(Dense(1, activation='sigmoid'))\n",
        "\n",
        "\n",
        "  # Compile the model\n",
        "  model.compile(optimizer='adam',\n",
        "              loss='binary_crossentropy',\n",
        "              metrics=['accuracy'])\n",
        "  return model"
      ],
      "execution_count": 0,
      "outputs": []
    },
    {
      "cell_type": "code",
      "metadata": {
        "id": "-E6PQ5Nlv5di",
        "colab_type": "code",
        "colab": {}
      },
      "source": [
        "def modify_lstm_model(name='modify', max_features=NUM_WORDS, l2=0.01):\n",
        "    # Build the model.\n",
        "  size = 64\n",
        "  model = Sequential(name=name)\n",
        "  \n",
        "  model.add(Embedding(input_dim=max_features, output_dim=size))\n",
        "  model.add(LSTM(size, activation='relu' , recurrent_regularizer=regularizers.l2(l2),  kernel_regularizer=regularizers.l2(l2))) # \n",
        "  model.add(Dense(1, activation='sigmoid'))\n",
        "\n",
        "\n",
        "  # Compile the model\n",
        "  model.compile(optimizer='adam',\n",
        "              loss='binary_crossentropy',\n",
        "              metrics=['accuracy'])\n",
        "  return model"
      ],
      "execution_count": 0,
      "outputs": []
    },
    {
      "cell_type": "code",
      "metadata": {
        "id": "mug3UiYBPQHd",
        "colab_type": "code",
        "colab": {}
      },
      "source": [
        "FULL_ROAD=True\n",
        "history_file = 'history.pickle'\n",
        "EPOCHES = 30"
      ],
      "execution_count": 0,
      "outputs": []
    },
    {
      "cell_type": "code",
      "metadata": {
        "id": "TWymX4capkA1",
        "colab_type": "code",
        "colab": {}
      },
      "source": [
        "if FULL_ROAD:\n",
        "  models = []\n",
        "  models.append(baseline_model())\n",
        "  models.append(lstm_model())\n",
        "  models.append(modify_lstm_model(l2=0.07))\n",
        "  history = {}\n",
        "else:\n",
        "  models = []\n",
        "  models.append(modify_lstm_model(l2=0.07))\n",
        "  with open(history_file, 'rb') as handle:\n",
        "    history = pickle.load(handle)"
      ],
      "execution_count": 0,
      "outputs": []
    },
    {
      "cell_type": "code",
      "metadata": {
        "id": "s780AWCUohLk",
        "colab_type": "code",
        "outputId": "c4bc0c37-b84d-45d9-81d5-5e702c1c5dfa",
        "colab": {
          "base_uri": "https://localhost:8080/",
          "height": 1000
        }
      },
      "source": [
        "\n",
        "i = 0\n",
        "batch_size = 1000\n",
        "\n",
        "for model in models:\n",
        "  i+= 1\n",
        "  print(f'{i}. {model.name}  ')\n",
        "  %time history[model.name] = model.fit(x=x_train, y=y_train,\\\n",
        "                      batch_size=batch_size,\\\n",
        "                      epochs=EPOCHES,\\\n",
        "                      verbose=0, \\\n",
        "                      validation_data=(x_test, y_test))\n",
        "  \n",
        "  loss, accuracy = model.evaluate(x_test, y_test,\n",
        "                            batch_size=batch_size)\n",
        "  print(f'Accuracy: {accuracy}  ')\n",
        "  print(f'Binary_crossentropy: {loss}  ')\n",
        "  model.summary()"
      ],
      "execution_count": 17,
      "outputs": [
        {
          "output_type": "stream",
          "text": [
            "1. baseline  \n",
            "CPU times: user 6.45 s, sys: 802 ms, total: 7.25 s\n",
            "Wall time: 6.01 s\n",
            "25000/25000 [==============================] - 0s 2us/step\n",
            "Accuracy: 0.8148400187492371  \n",
            "Binary_crossentropy: 0.6861939477920532  \n",
            "Model: \"baseline\"\n",
            "_________________________________________________________________\n",
            "Layer (type)                 Output Shape              Param #   \n",
            "=================================================================\n",
            "embedding_1 (Embedding)      (None, None, 8)           80000     \n",
            "_________________________________________________________________\n",
            "global_average_pooling1d_1 ( (None, 8)                 0         \n",
            "_________________________________________________________________\n",
            "dense_1 (Dense)              (None, 8)                 72        \n",
            "_________________________________________________________________\n",
            "dense_2 (Dense)              (None, 1)                 9         \n",
            "=================================================================\n",
            "Total params: 80,081\n",
            "Trainable params: 80,081\n",
            "Non-trainable params: 0\n",
            "_________________________________________________________________\n",
            "2. lstm  \n",
            "CPU times: user 6min 59s, sys: 59.7 s, total: 7min 59s\n",
            "Wall time: 4min 58s\n",
            "25000/25000 [==============================] - 1s 36us/step\n",
            "Accuracy: 0.8240000009536743  \n",
            "Binary_crossentropy: 0.6612741208076477  \n",
            "Model: \"lstm\"\n",
            "_________________________________________________________________\n",
            "Layer (type)                 Output Shape              Param #   \n",
            "=================================================================\n",
            "embedding_2 (Embedding)      (None, None, 128)         1280000   \n",
            "_________________________________________________________________\n",
            "lstm_1 (LSTM)                (None, 128)               131584    \n",
            "_________________________________________________________________\n",
            "dense_3 (Dense)              (None, 1)                 129       \n",
            "=================================================================\n",
            "Total params: 1,411,713\n",
            "Trainable params: 1,411,713\n",
            "Non-trainable params: 0\n",
            "_________________________________________________________________\n",
            "3. modify  \n",
            "CPU times: user 5min 55s, sys: 48.9 s, total: 6min 44s\n",
            "Wall time: 4min 14s\n",
            "25000/25000 [==============================] - 1s 27us/step\n",
            "Accuracy: 0.8539199829101562  \n",
            "Binary_crossentropy: 0.47357009172439574  \n",
            "Model: \"modify\"\n",
            "_________________________________________________________________\n",
            "Layer (type)                 Output Shape              Param #   \n",
            "=================================================================\n",
            "embedding_3 (Embedding)      (None, None, 64)          640000    \n",
            "_________________________________________________________________\n",
            "lstm_2 (LSTM)                (None, 64)                33024     \n",
            "_________________________________________________________________\n",
            "dense_4 (Dense)              (None, 1)                 65        \n",
            "=================================================================\n",
            "Total params: 673,089\n",
            "Trainable params: 673,089\n",
            "Non-trainable params: 0\n",
            "_________________________________________________________________\n"
          ],
          "name": "stdout"
        }
      ]
    },
    {
      "cell_type": "markdown",
      "metadata": {
        "id": "NusMhvE2odQM",
        "colab_type": "text"
      },
      "source": [
        "## 2. Анализ"
      ]
    },
    {
      "cell_type": "code",
      "metadata": {
        "id": "XfTf6ik4vF8T",
        "colab_type": "code",
        "outputId": "7e3f3de5-2282-416e-ee65-a98f1ee4dc21",
        "colab": {
          "base_uri": "https://localhost:8080/",
          "height": 893
        }
      },
      "source": [
        "select_list = ['baseline', 'lstm', 'modify']\n",
        "filter_history = {k: v for k, v in history.items() if k in select_list}\n",
        "plot_history(filter_history )"
      ],
      "execution_count": 18,
      "outputs": [
        {
          "output_type": "display_data",
          "data": {
            "image/png": "[encoded data removed]",
            "text/plain": [
              "<Figure size 1080x1080 with 4 Axes>"
            ]
          },
          "metadata": {
            "tags": [],
            "needs_background": "light"
          }
        }
      ]
    },
    {
      "cell_type": "code",
      "metadata": {
        "id": "uFufRegNPUoG",
        "colab_type": "code",
        "colab": {}
      },
      "source": [
        "with open(history_file, 'wb') as handle:\n",
        "  pickle.dump(history, handle, protocol=pickle.HIGHEST_PROTOCOL)"
      ],
      "execution_count": 0,
      "outputs": []
    },
    {
      "cell_type": "markdown",
      "metadata": {
        "id": "snu5khP5BqX3",
        "colab_type": "text"
      },
      "source": [
        "##Вывод:\n",
        "Уменьшив количество нейронов в слое и добавив регуляризацию, удалось снизить объем и время обучения, улучшив незначитльено основные метрики."
      ]
    }
  ]
}