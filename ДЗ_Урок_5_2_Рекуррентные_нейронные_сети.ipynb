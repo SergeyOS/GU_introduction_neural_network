{
  "nbformat": 4,
  "nbformat_minor": 0,
  "metadata": {
    "colab": {
      "name": "ДЗ Урок 5.2. Рекуррентные нейронные сети.ipynb",
      "provenance": []
    },
    "kernelspec": {
      "name": "python3",
      "display_name": "Python 3"
    },
    "accelerator": "GPU"
  },
  "cells": [
    {
      "cell_type": "code",
      "metadata": {
        "id": "hz1L7CGjWUg3",
        "colab_type": "code",
        "outputId": "c4c76ddb-f556-4581-9887-a7b572cccbed",
        "colab": {
          "base_uri": "https://localhost:8080/",
          "height": 34
        }
      },
      "source": [
        "# Подключение к Google drive\n",
        "\n",
        "from google.colab import drive\n",
        "drive.mount('/content/drive')"
      ],
      "execution_count": 0,
      "outputs": [
        {
          "output_type": "stream",
          "text": [
            "Drive already mounted at /content/drive; to attempt to forcibly remount, call drive.mount(\"/content/drive\", force_remount=True).\n"
          ],
          "name": "stdout"
        }
      ]
    },
    {
      "cell_type": "code",
      "metadata": {
        "id": "5eN9nD2aWkD7",
        "colab_type": "code",
        "colab": {}
      },
      "source": [
        "PATH = '/content/drive/My Drive/GU_neural_network/'"
      ],
      "execution_count": 0,
      "outputs": []
    },
    {
      "cell_type": "code",
      "metadata": {
        "id": "K_l2ZTmpkoDg",
        "colab_type": "code",
        "colab": {}
      },
      "source": [
        "import sys\n",
        "sys.path.append(PATH)"
      ],
      "execution_count": 0,
      "outputs": []
    },
    {
      "cell_type": "code",
      "metadata": {
        "id": "IZLFA4rmkpsX",
        "colab_type": "code",
        "outputId": "1a3068b2-9c1f-4f1e-f976-4563ccb71fb2",
        "colab": {
          "base_uri": "https://localhost:8080/",
          "height": 153
        }
      },
      "source": [
        "!pip install keras"
      ],
      "execution_count": 0,
      "outputs": [
        {
          "output_type": "stream",
          "text": [
            "Requirement already satisfied: keras in /usr/local/lib/python3.6/dist-packages (2.3.1)\n",
            "Requirement already satisfied: scipy>=0.14 in /usr/local/lib/python3.6/dist-packages (from keras) (1.4.1)\n",
            "Requirement already satisfied: six>=1.9.0 in /usr/local/lib/python3.6/dist-packages (from keras) (1.12.0)\n",
            "Requirement already satisfied: keras-preprocessing>=1.0.5 in /usr/local/lib/python3.6/dist-packages (from keras) (1.1.0)\n",
            "Requirement already satisfied: numpy>=1.9.1 in /usr/local/lib/python3.6/dist-packages (from keras) (1.18.3)\n",
            "Requirement already satisfied: h5py in /usr/local/lib/python3.6/dist-packages (from keras) (2.10.0)\n",
            "Requirement already satisfied: pyyaml in /usr/local/lib/python3.6/dist-packages (from keras) (3.13)\n",
            "Requirement already satisfied: keras-applications>=1.0.6 in /usr/local/lib/python3.6/dist-packages (from keras) (1.0.8)\n"
          ],
          "name": "stdout"
        }
      ]
    },
    {
      "cell_type": "markdown",
      "metadata": {
        "id": "1gNlrW9wWuef",
        "colab_type": "text"
      },
      "source": [
        "## Практическое задание\n",
        "\n",
        "<ol>\n",
        "    2. Попробуйте изменить параметры нейронной сети генерирующий текст таким образом, чтобы добиться генерации как можно более осмысленного текста. Пришлите лучший получившейся у вас текст и опишите, что вы предприняли, чтобы его получить. Можно использовать текст другого прозведения<br><br>\n",
        "\n",
        "    \n",
        "</ol>"
      ]
    },
    {
      "cell_type": "markdown",
      "metadata": {
        "id": "RIeCJo37nQs8",
        "colab_type": "text"
      },
      "source": [
        "##Константы"
      ]
    },
    {
      "cell_type": "code",
      "metadata": {
        "id": "L-JOzmW5nQOo",
        "colab_type": "code",
        "colab": {}
      },
      "source": [
        "SEQLEN, STEP = 10, 2\n",
        "RANDOM_STATE = 1\n",
        "# установка ряда метапамертров  для нейронной сети и процесса тренировки\n",
        "BATCH_SIZE, HIDDEN_SIZE = 128, 128\n",
        "NUM_ITERATIONS = 25 \n",
        "NUM_EPOCHS_PER_ITERATION = 5\n",
        "NUM_PREDS_PER_EPOCH = 100"
      ],
      "execution_count": 0,
      "outputs": []
    },
    {
      "cell_type": "markdown",
      "metadata": {
        "id": "zaHYcAX3XWFO",
        "colab_type": "text"
      },
      "source": [
        "## Библотеки"
      ]
    },
    {
      "cell_type": "code",
      "metadata": {
        "id": "XsGXR_BhXW3-",
        "colab_type": "code",
        "outputId": "e721ed73-7085-4e0f-d44f-11fef84542a7",
        "colab": {
          "base_uri": "https://localhost:8080/",
          "height": 34
        }
      },
      "source": [
        "import numpy as np\n",
        "import os\n",
        "from keras.layers import Dense, Activation\n",
        "from keras.layers.recurrent import SimpleRNN, LSTM, GRU\n",
        "from keras.models import Sequential\n",
        "from keras import regularizers\n",
        "\n",
        "import warnings\n",
        "warnings.filterwarnings(action='ignore', category=Warning)"
      ],
      "execution_count": 0,
      "outputs": [
        {
          "output_type": "stream",
          "text": [
            "Using TensorFlow backend.\n"
          ],
          "name": "stderr"
        }
      ]
    },
    {
      "cell_type": "code",
      "metadata": {
        "id": "u5lfXWFEl_Qv",
        "colab_type": "code",
        "colab": {}
      },
      "source": [
        "np.random.seed(RANDOM_STATE)"
      ],
      "execution_count": 0,
      "outputs": []
    },
    {
      "cell_type": "markdown",
      "metadata": {
        "id": "zquGhRiblKiu",
        "colab_type": "text"
      },
      "source": [
        "## Подготовка данных"
      ]
    },
    {
      "cell_type": "code",
      "metadata": {
        "id": "SA5dsdWSlJVy",
        "colab_type": "code",
        "colab": {}
      },
      "source": [
        "# построчное чтение из примера с текстом \n",
        "with open(os.path.join(PATH,\"alice_in_wonderland.txt\"), 'rb') as _in:\n",
        "    lines = []\n",
        "    for line in _in:\n",
        "        line = line.strip().lower().decode(\"ascii\", \"ignore\")\n",
        "        if len(line) == 0:\n",
        "            continue\n",
        "        lines.append(line)\n",
        "text = \" \".join(lines)\n",
        "chars = set([c for c in text])\n",
        "nb_chars = len(chars)"
      ],
      "execution_count": 0,
      "outputs": []
    },
    {
      "cell_type": "code",
      "metadata": {
        "id": "uPfdc8AepByP",
        "colab_type": "code",
        "colab": {}
      },
      "source": [
        "# создание индекса символов и reverse mapping чтобы передвигаться между значениями numerical\n",
        "# ID and a specific character. The numerical ID will correspond to a column\n",
        "# ID и определенный символ. Numerical ID будет соответсвовать колонке\n",
        "# число при использовании one-hot кодировки для представление входов символов\n",
        "char2index = {c: i for i, c in enumerate(chars)}\n",
        "index2char = {i: c for i, c in enumerate(chars)}"
      ],
      "execution_count": 0,
      "outputs": []
    },
    {
      "cell_type": "code",
      "metadata": {
        "id": "N0Wr2VXct1Gc",
        "colab_type": "code",
        "colab": {}
      },
      "source": [
        "input_chars, label_chars = [], []\n",
        "\n",
        "# конвертация data в серии разных SEQLEN-length субпоследовательностей\n",
        "for i in range(0, len(text) - SEQLEN, STEP):\n",
        "    input_chars.append(text[i: i + SEQLEN])\n",
        "    label_chars.append(text[i + SEQLEN])"
      ],
      "execution_count": 0,
      "outputs": []
    },
    {
      "cell_type": "code",
      "metadata": {
        "id": "kSaFqmfCE23T",
        "colab_type": "code",
        "colab": {}
      },
      "source": [
        "# Вычисление one-hot encoding входных последовательностей X и следующего символа (the label) y\n",
        "\n",
        "X = np.zeros((len(input_chars), SEQLEN, nb_chars), dtype=np.bool)\n",
        "y = np.zeros((len(input_chars), nb_chars), dtype=np.bool)\n",
        "for i, input_char in enumerate(input_chars):\n",
        "    for j, ch in enumerate(input_char):\n",
        "        X[i, j, char2index[ch]] = 1\n",
        "    y[i, char2index[label_chars[i]]] = 1"
      ],
      "execution_count": 0,
      "outputs": []
    },
    {
      "cell_type": "markdown",
      "metadata": {
        "id": "6bHTaCRxoQK9",
        "colab_type": "text"
      },
      "source": [
        "## Дополнительные функции"
      ]
    },
    {
      "cell_type": "markdown",
      "metadata": {
        "id": "3DLfp3uEXBzm",
        "colab_type": "text"
      },
      "source": [
        "## 1. Модель"
      ]
    },
    {
      "cell_type": "code",
      "metadata": {
        "id": "-W7aIJfKn9Bk",
        "colab_type": "code",
        "colab": {}
      },
      "source": [
        "def baseline_model(name='baseline', size=HIDDEN_SIZE, seq_lenght=SEQLEN, nb_chars=100):\n",
        "  # Build the model.\n",
        "  model = Sequential(name=name)\n",
        "  model.add(\n",
        "      GRU(  \n",
        "          size,\n",
        "          return_sequences=True,\n",
        "          input_shape=(seq_lenght, nb_chars),\n",
        "          unroll=True\n",
        "      )\n",
        "  )\n",
        "  model.add(\n",
        "      GRU(  \n",
        "          size,\n",
        "          return_sequences=False,\n",
        "          input_shape=(seq_lenght, nb_chars),\n",
        "          dropout=0.2, recurrent_dropout=0.5,\n",
        "          unroll=True\n",
        "      )\n",
        "  )\n",
        "  model.add(Dense(nb_chars))\n",
        "  model.add(Activation(\"softmax\"))\n",
        "  model.compile(loss=\"categorical_crossentropy\", optimizer=\"adam\")\n",
        "  model.summary()\n",
        "  return model"
      ],
      "execution_count": 0,
      "outputs": []
    },
    {
      "cell_type": "markdown",
      "metadata": {
        "id": "NusMhvE2odQM",
        "colab_type": "text"
      },
      "source": [
        "## 2. Обучение"
      ]
    },
    {
      "cell_type": "code",
      "metadata": {
        "id": "fv1Yy0KZEcR3",
        "colab_type": "code",
        "outputId": "a5c04740-bd25-4de1-fbc2-e4db08243ac6",
        "colab": {
          "base_uri": "https://localhost:8080/",
          "height": 1000
        }
      },
      "source": [
        "model = baseline_model(nb_chars=nb_chars)\n",
        "\n",
        "# выполнение серий тренировочных и демонстрационных итераций \n",
        "for iteration in range(NUM_ITERATIONS):\n",
        "\n",
        "    # для каждой итерации запуск передачи данных в модель \n",
        "    print(\"=\" * 50)\n",
        "    print(\"Итерация #: %d\" % (iteration))\n",
        "    model.fit(X, y, batch_size=BATCH_SIZE, epochs=NUM_EPOCHS_PER_ITERATION)\n",
        "\n",
        "    # Select a random example input sequence.\n",
        "    test_idx = np.random.randint(len(input_chars))\n",
        "    test_chars = input_chars[test_idx]\n",
        "\n",
        "    # для числа шагов предсказаний использование текущей тренируемой модели \n",
        "    # конструирование one-hot encoding для тестирования input и добавление предсказания.\n",
        "    print(\"Генерация из посева: %s\" % (test_chars))\n",
        "    print(test_chars, end=\"\")\n",
        "    for i in range(NUM_PREDS_PER_EPOCH):\n",
        "\n",
        "        # здесь one-hot encoding.\n",
        "        X_test = np.zeros((1, SEQLEN, nb_chars))\n",
        "        for j, ch in enumerate(test_chars):\n",
        "            X_test[0, j, char2index[ch]] = 1\n",
        "\n",
        "        # осуществление предсказания с помощью текущей модели.\n",
        "        pred = model.predict(X_test, verbose=0)[0]\n",
        "        y_pred = index2char[np.argmax(pred)]\n",
        "\n",
        "        # вывод предсказания добавленного к тестовому примеру \n",
        "        print(y_pred, end=\"\")\n",
        "\n",
        "        # инкрементация тестового примера содержащего предсказание\n",
        "        test_chars = test_chars[1:] + y_pred\n",
        "print()"
      ],
      "execution_count": 0,
      "outputs": [
        {
          "output_type": "stream",
          "text": [
            "Model: \"baseline\"\n",
            "_________________________________________________________________\n",
            "Layer (type)                 Output Shape              Param #   \n",
            "=================================================================\n",
            "gru_1 (GRU)                  (None, 10, 128)           64896     \n",
            "_________________________________________________________________\n",
            "gru_2 (GRU)                  (None, 128)               98688     \n",
            "_________________________________________________________________\n",
            "dense_1 (Dense)              (None, 40)                5160      \n",
            "_________________________________________________________________\n",
            "activation_1 (Activation)    (None, 40)                0         \n",
            "=================================================================\n",
            "Total params: 168,744\n",
            "Trainable params: 168,744\n",
            "Non-trainable params: 0\n",
            "_________________________________________________________________\n",
            "==================================================\n",
            "Итерация #: 0\n",
            "Epoch 1/5\n",
            "69762/69762 [==============================] - 8s 112us/step - loss: 2.5381\n",
            "Epoch 2/5\n",
            "69762/69762 [==============================] - 6s 91us/step - loss: 2.0450\n",
            "Epoch 3/5\n",
            "69762/69762 [==============================] - 7s 100us/step - loss: 1.9037\n",
            "Epoch 4/5\n",
            "69762/69762 [==============================] - 7s 93us/step - loss: 1.8093\n",
            "Epoch 5/5\n",
            "69762/69762 [==============================] - 6s 90us/step - loss: 1.7368\n",
            "Генерация из посева: e to the c\n",
            "e to the canter the doon the doon the doon the doon the doon the doon the doon the doon the doon the doon the ==================================================\n",
            "Итерация #: 1\n",
            "Epoch 1/5\n",
            "69762/69762 [==============================] - 6s 90us/step - loss: 1.6802\n",
            "Epoch 2/5\n",
            "69762/69762 [==============================] - 6s 88us/step - loss: 1.6291\n",
            "Epoch 3/5\n",
            "69762/69762 [==============================] - 6s 85us/step - loss: 1.5941\n",
            "Epoch 4/5\n",
            "69762/69762 [==============================] - 6s 92us/step - loss: 1.5482\n",
            "Epoch 5/5\n",
            "69762/69762 [==============================] - 6s 89us/step - loss: 1.5154\n",
            "Генерация из посева: gether, al\n",
            "gether, alice to be the book to the dormouse the dormouse the dormouse the dormouse the dormouse the dormouse ==================================================\n",
            "Итерация #: 2\n",
            "Epoch 1/5\n",
            "69762/69762 [==============================] - 6s 89us/step - loss: 1.4906\n",
            "Epoch 2/5\n",
            "69762/69762 [==============================] - 6s 92us/step - loss: 1.4569\n",
            "Epoch 3/5\n",
            "69762/69762 [==============================] - 6s 88us/step - loss: 1.4325\n",
            "Epoch 4/5\n",
            "69762/69762 [==============================] - 6s 92us/step - loss: 1.4054\n",
            "Epoch 5/5\n",
            "69762/69762 [==============================] - 6s 88us/step - loss: 1.3791\n",
            "Генерация из посева: ed a littl\n",
            "ed a little stard to the mouse the mock turtle said the mock turtle said the mock turtle said the mock turtle ==================================================\n",
            "Итерация #: 3\n",
            "Epoch 1/5\n",
            "69762/69762 [==============================] - 6s 84us/step - loss: 1.3636\n",
            "Epoch 2/5\n",
            "69762/69762 [==============================] - 6s 85us/step - loss: 1.3422\n",
            "Epoch 3/5\n",
            "69762/69762 [==============================] - 6s 89us/step - loss: 1.3243\n",
            "Epoch 4/5\n",
            "69762/69762 [==============================] - 6s 89us/step - loss: 1.3026\n",
            "Epoch 5/5\n",
            "69762/69762 [==============================] - 7s 97us/step - loss: 1.2885\n",
            "Генерация из посева: ng up and \n",
            "ng up and she said to the mouse said the king. alice said to the mouse said the king. alice said to the mouse ==================================================\n",
            "Итерация #: 4\n",
            "Epoch 1/5\n",
            "69762/69762 [==============================] - 7s 95us/step - loss: 1.2756\n",
            "Epoch 2/5\n",
            "69762/69762 [==============================] - 7s 94us/step - loss: 1.2549\n",
            "Epoch 3/5\n",
            "69762/69762 [==============================] - 6s 88us/step - loss: 1.2451\n",
            "Epoch 4/5\n",
            "69762/69762 [==============================] - 6s 90us/step - loss: 1.2227\n",
            "Epoch 5/5\n",
            "69762/69762 [==============================] - 6s 90us/step - loss: 1.2124\n",
            "Генерация из посева: lf before \n",
            "lf before the time the mouse was the mock turtle was good the mouse was the mock turtle was good the mouse was==================================================\n",
            "Итерация #: 5\n",
            "Epoch 1/5\n",
            "69762/69762 [==============================] - 6s 91us/step - loss: 1.2073\n",
            "Epoch 2/5\n",
            "69762/69762 [==============================] - 6s 88us/step - loss: 1.1833\n",
            "Epoch 3/5\n",
            "69762/69762 [==============================] - 7s 95us/step - loss: 1.1681\n",
            "Epoch 4/5\n",
            "69762/69762 [==============================] - 7s 95us/step - loss: 1.1576\n",
            "Epoch 5/5\n",
            "69762/69762 [==============================] - 7s 100us/step - loss: 1.1529\n",
            "Генерация из посева: o go throu\n",
            "o go through the white rabbit have been a little strearl it was the mock turtle was she was that it was the mo==================================================\n",
            "Итерация #: 6\n",
            "Epoch 1/5\n",
            "69762/69762 [==============================] - 6s 92us/step - loss: 1.1346\n",
            "Epoch 2/5\n",
            "69762/69762 [==============================] - 6s 89us/step - loss: 1.1202\n",
            "Epoch 3/5\n",
            "69762/69762 [==============================] - 6s 90us/step - loss: 1.1086\n",
            "Epoch 4/5\n",
            "69762/69762 [==============================] - 6s 87us/step - loss: 1.1078\n",
            "Epoch 5/5\n",
            "69762/69762 [==============================] - 6s 86us/step - loss: 1.0926\n",
            "Генерация из посева: ng time to\n",
            "ng time to be angried to the morsthree. why is such a many a mouse--all the rest of the the look of the the lo==================================================\n",
            "Итерация #: 7\n",
            "Epoch 1/5\n",
            "69762/69762 [==============================] - 7s 98us/step - loss: 1.0923\n",
            "Epoch 2/5\n",
            "69762/69762 [==============================] - 6s 86us/step - loss: 1.0706\n",
            "Epoch 3/5\n",
            "69762/69762 [==============================] - 7s 97us/step - loss: 1.0603\n",
            "Epoch 4/5\n",
            "69762/69762 [==============================] - 6s 90us/step - loss: 1.0486\n",
            "Epoch 5/5\n",
            "69762/69762 [==============================] - 6s 88us/step - loss: 1.0394\n",
            "Генерация из посева: hat a clea\n",
            "hat a clear with the gryphon. i was sudpen a long the white rabbit was stand and she spoke. i dont know what i==================================================\n",
            "Итерация #: 8\n",
            "Epoch 1/5\n",
            "69762/69762 [==============================] - 6s 91us/step - loss: 1.0299\n",
            "Epoch 2/5\n",
            "69762/69762 [==============================] - 6s 90us/step - loss: 1.0333\n",
            "Epoch 3/5\n",
            "69762/69762 [==============================] - 7s 94us/step - loss: 1.0133\n",
            "Epoch 4/5\n",
            "69762/69762 [==============================] - 7s 102us/step - loss: 1.0073\n",
            "Epoch 5/5\n",
            "69762/69762 [==============================] - 6s 85us/step - loss: 0.9973\n",
            "Генерация из посева: tried hard\n",
            "tried hard it again. alice said nothing to the jury, who as the white rabbit, said the dormouse said the dormo==================================================\n",
            "Итерация #: 9\n",
            "Epoch 1/5\n",
            "69762/69762 [==============================] - 7s 96us/step - loss: 0.9881\n",
            "Epoch 2/5\n",
            "69762/69762 [==============================] - 6s 93us/step - loss: 0.9788\n",
            "Epoch 3/5\n",
            "69762/69762 [==============================] - 6s 91us/step - loss: 0.9910\n",
            "Epoch 4/5\n",
            "69762/69762 [==============================] - 6s 88us/step - loss: 0.9656\n",
            "Epoch 5/5\n",
            "69762/69762 [==============================] - 6s 91us/step - loss: 0.9640\n",
            "Генерация из посева: ittle crea\n",
            "ittle creatures were our beat in a long the time they were all she had got alice was the hatter should for the==================================================\n",
            "Итерация #: 10\n",
            "Epoch 1/5\n",
            "69762/69762 [==============================] - 7s 94us/step - loss: 0.9515\n",
            "Epoch 2/5\n",
            "69762/69762 [==============================] - 6s 91us/step - loss: 0.9447\n",
            "Epoch 3/5\n",
            "69762/69762 [==============================] - 6s 86us/step - loss: 0.9350\n",
            "Epoch 4/5\n",
            "69762/69762 [==============================] - 6s 84us/step - loss: 0.9365\n",
            "Epoch 5/5\n",
            "69762/69762 [==============================] - 7s 93us/step - loss: 0.9337\n",
            "Генерация из посева: r, said th\n",
            "r, said the dormouse that it was the rest with an egg that in a little starting of the the arches was that it ==================================================\n",
            "Итерация #: 11\n",
            "Epoch 1/5\n",
            "69762/69762 [==============================] - 6s 90us/step - loss: 0.9250\n",
            "Epoch 2/5\n",
            "69762/69762 [==============================] - 7s 99us/step - loss: 0.9196\n",
            "Epoch 3/5\n",
            "69762/69762 [==============================] - 7s 97us/step - loss: 0.9119\n",
            "Epoch 4/5\n",
            "69762/69762 [==============================] - 6s 88us/step - loss: 0.8975\n",
            "Epoch 5/5\n",
            "69762/69762 [==============================] - 6s 88us/step - loss: 0.9032\n",
            "Генерация из посева:  wont you,\n",
            " wont you, wont you, wont you, wont you, wont you, wont you, wont you, wont you, wont you, wont you, wont you,==================================================\n",
            "Итерация #: 12\n",
            "Epoch 1/5\n",
            "69762/69762 [==============================] - 6s 90us/step - loss: 0.8943\n",
            "Epoch 2/5\n",
            "69762/69762 [==============================] - 6s 89us/step - loss: 0.8901\n",
            "Epoch 3/5\n",
            "69762/69762 [==============================] - 6s 92us/step - loss: 0.8766\n",
            "Epoch 4/5\n",
            "69762/69762 [==============================] - 6s 92us/step - loss: 0.8819\n",
            "Epoch 5/5\n",
            "69762/69762 [==============================] - 6s 89us/step - loss: 0.8862\n",
            "Генерация из посева: she found \n",
            "she found the pigeon to bent hastily onler are there was said to herself, and shouting out a little startled l==================================================\n",
            "Итерация #: 13\n",
            "Epoch 1/5\n",
            "69762/69762 [==============================] - 6s 87us/step - loss: 0.8939\n",
            "Epoch 2/5\n",
            "69762/69762 [==============================] - 7s 94us/step - loss: 0.8569\n",
            "Epoch 3/5\n",
            "69762/69762 [==============================] - 7s 96us/step - loss: 0.8520\n",
            "Epoch 4/5\n",
            "69762/69762 [==============================] - 6s 90us/step - loss: 0.8898\n",
            "Epoch 5/5\n",
            "69762/69762 [==============================] - 7s 95us/step - loss: 0.8487\n",
            "Генерация из посева: rd i had n\n",
            "rd i had not at the door of the bottle said to herself, and then the mouse was said to herself, and then the m==================================================\n",
            "Итерация #: 14\n",
            "Epoch 1/5\n",
            "69762/69762 [==============================] - 6s 87us/step - loss: 0.8527\n",
            "Epoch 2/5\n",
            "69762/69762 [==============================] - 6s 93us/step - loss: 0.8377\n",
            "Epoch 3/5\n",
            "69762/69762 [==============================] - 6s 91us/step - loss: 0.8325\n",
            "Epoch 4/5\n",
            "69762/69762 [==============================] - 6s 90us/step - loss: 0.8305\n",
            "Epoch 5/5\n",
            "69762/69762 [==============================] - 7s 94us/step - loss: 0.8670\n",
            "Генерация из посева: m before t\n",
            "m before the tant in a mouse, the dormouse thank your then the hatter sheer noticed to the then the hatter she==================================================\n",
            "Итерация #: 15\n",
            "Epoch 1/5\n",
            "69762/69762 [==============================] - 7s 95us/step - loss: 0.8259\n",
            "Epoch 2/5\n",
            "69762/69762 [==============================] - 6s 88us/step - loss: 0.8339\n",
            "Epoch 3/5\n",
            "69762/69762 [==============================] - 7s 94us/step - loss: 0.8219\n",
            "Epoch 4/5\n",
            "69762/69762 [==============================] - 6s 89us/step - loss: 0.8056\n",
            "Epoch 5/5\n",
            "69762/69762 [==============================] - 6s 85us/step - loss: 0.8213\n",
            "Генерация из посева: theyd get \n",
            "theyd get to the baby convertarly. the knay. weren that is and shark not be that with a little startled on the==================================================\n",
            "Итерация #: 16\n",
            "Epoch 1/5\n",
            "69762/69762 [==============================] - 7s 102us/step - loss: 0.8041\n",
            "Epoch 2/5\n",
            "69762/69762 [==============================] - 6s 87us/step - loss: 0.8099\n",
            "Epoch 3/5\n",
            "69762/69762 [==============================] - 6s 90us/step - loss: 0.8010\n",
            "Epoch 4/5\n",
            "69762/69762 [==============================] - 6s 86us/step - loss: 0.8081\n",
            "Epoch 5/5\n",
            "69762/69762 [==============================] - 6s 93us/step - loss: 0.8076\n",
            "Генерация из посева: e? said al\n",
            "e? said alice, and she thought the caterpillar. alice thought the caterpillar. alice thought the caterpillar. ==================================================\n",
            "Итерация #: 17\n",
            "Epoch 1/5\n",
            "69762/69762 [==============================] - 6s 92us/step - loss: 0.8079\n",
            "Epoch 2/5\n",
            "69762/69762 [==============================] - 6s 88us/step - loss: 0.7901\n",
            "Epoch 3/5\n",
            "69762/69762 [==============================] - 6s 91us/step - loss: 0.7881\n",
            "Epoch 4/5\n",
            "69762/69762 [==============================] - 6s 90us/step - loss: 0.7999\n",
            "Epoch 5/5\n",
            "69762/69762 [==============================] - 6s 86us/step - loss: 0.7986\n",
            "Генерация из посева: scroll of \n",
            "scroll of pierifuennt one with a long all at the thing you like to the beginning to herself, and the ent of sh==================================================\n",
            "Итерация #: 18\n",
            "Epoch 1/5\n",
            "69762/69762 [==============================] - 6s 88us/step - loss: 0.7744\n",
            "Epoch 2/5\n",
            "69762/69762 [==============================] - 6s 92us/step - loss: 0.7717\n",
            "Epoch 3/5\n",
            "69762/69762 [==============================] - 6s 92us/step - loss: 0.7689\n",
            "Epoch 4/5\n",
            "69762/69762 [==============================] - 6s 88us/step - loss: 0.7730\n",
            "Epoch 5/5\n",
            "69762/69762 [==============================] - 7s 94us/step - loss: 0.7787\n",
            "Генерация из посева: fraid i am\n",
            "fraid i am in them, and walked us all the party was strrighten the door one of the earth. and then the mouse w==================================================\n",
            "Итерация #: 19\n",
            "Epoch 1/5\n",
            "69762/69762 [==============================] - 7s 93us/step - loss: 0.7754\n",
            "Epoch 2/5\n",
            "69762/69762 [==============================] - 6s 92us/step - loss: 0.7574\n",
            "Epoch 3/5\n",
            "69762/69762 [==============================] - 6s 86us/step - loss: 0.7726\n",
            "Epoch 4/5\n",
            "69762/69762 [==============================] - 6s 91us/step - loss: 0.7681\n",
            "Epoch 5/5\n",
            "69762/69762 [==============================] - 6s 87us/step - loss: 0.7934\n",
            "Генерация из посева: ink i coul\n",
            "ink i could not think that ever whate oursting the door of the sort. not quite such a little starting thing i ==================================================\n",
            "Итерация #: 20\n",
            "Epoch 1/5\n",
            "69762/69762 [==============================] - 7s 98us/step - loss: 0.8019\n",
            "Epoch 2/5\n",
            "69762/69762 [==============================] - 7s 95us/step - loss: 0.7396\n",
            "Epoch 3/5\n",
            "69762/69762 [==============================] - 6s 90us/step - loss: 0.7458\n",
            "Epoch 4/5\n",
            "69762/69762 [==============================] - 7s 95us/step - loss: 0.7517\n",
            "Epoch 5/5\n",
            "69762/69762 [==============================] - 7s 96us/step - loss: 0.7370\n",
            "Генерация из посева: lf, the mo\n",
            "lf, the mock turtle said, and as she could not some manay back to her shore with a large down, and she was gon==================================================\n",
            "Итерация #: 21\n",
            "Epoch 1/5\n",
            "69762/69762 [==============================] - 7s 96us/step - loss: 0.7476\n",
            "Epoch 2/5\n",
            "69762/69762 [==============================] - 6s 90us/step - loss: 0.7346\n",
            "Epoch 3/5\n",
            "69762/69762 [==============================] - 6s 92us/step - loss: 0.7486\n",
            "Epoch 4/5\n",
            "69762/69762 [==============================] - 6s 92us/step - loss: 0.7396\n",
            "Epoch 5/5\n",
            "69762/69762 [==============================] - 6s 92us/step - loss: 0.7372\n",
            "Генерация из посева: ey made of\n",
            "ey made of better not the propersily it to herself, and the queen was so the duchess was so the duchess was so==================================================\n",
            "Итерация #: 22\n",
            "Epoch 1/5\n",
            "69762/69762 [==============================] - 6s 90us/step - loss: 0.7334\n",
            "Epoch 2/5\n",
            "69762/69762 [==============================] - 6s 87us/step - loss: 0.7343\n",
            "Epoch 3/5\n",
            "69762/69762 [==============================] - 6s 86us/step - loss: 0.7248\n",
            "Epoch 4/5\n",
            "69762/69762 [==============================] - 6s 86us/step - loss: 0.7403\n",
            "Epoch 5/5\n",
            "69762/69762 [==============================] - 6s 87us/step - loss: 0.7222\n",
            "Генерация из посева: ere goes h\n",
            "ere goes him gravely usimperean things! and her noes. the histles and growing that im nexpla, and the through ==================================================\n",
            "Итерация #: 23\n",
            "Epoch 1/5\n",
            "69762/69762 [==============================] - 6s 88us/step - loss: 0.7241\n",
            "Epoch 2/5\n",
            "69762/69762 [==============================] - 7s 97us/step - loss: 0.7154\n",
            "Epoch 3/5\n",
            "69762/69762 [==============================] - 7s 94us/step - loss: 0.7203\n",
            "Epoch 4/5\n",
            "69762/69762 [==============================] - 6s 92us/step - loss: 0.7441\n",
            "Epoch 5/5\n",
            "69762/69762 [==============================] - 7s 94us/step - loss: 0.7696\n",
            "Генерация из посева: st out of \n",
            "st out of its mouth and going of ase wouldnt be and bownden the rabbit at the whole cours, i have none, rearde==================================================\n",
            "Итерация #: 24\n",
            "Epoch 1/5\n",
            "69762/69762 [==============================] - 6s 91us/step - loss: 0.7121\n",
            "Epoch 2/5\n",
            "69762/69762 [==============================] - 6s 93us/step - loss: 0.7092\n",
            "Epoch 3/5\n",
            "69762/69762 [==============================] - 6s 89us/step - loss: 0.7103\n",
            "Epoch 4/5\n",
            "69762/69762 [==============================] - 6s 90us/step - loss: 0.7061\n",
            "Epoch 5/5\n",
            "69762/69762 [==============================] - 6s 92us/step - loss: 0.7288\n",
            "Генерация из посева:  said, and\n",
            " said, and the jury all was to many at and got but it mouse, that feet little course who was gont me near offe\n"
          ],
          "name": "stdout"
        }
      ]
    },
    {
      "cell_type": "markdown",
      "metadata": {
        "id": "snu5khP5BqX3",
        "colab_type": "text"
      },
      "source": [
        "##Вывод:\n",
        "Текст получился более осмысленный благодаря:\n",
        "1. Увеличению количества эпох\n",
        "2. Исключениею из текста технической и юридической информации\n",
        "3. Увеличение количества итераций\n",
        "4. Увеличение количества нейронов в слое, но добавлние еще одного слоя показало лучшие результаты с сопоставимым количеством параметров\n",
        "\n",
        "Ухудшило:  \n",
        "1. LSTM с регуляризацией и без требовало долгого обучения, но при этом текст генерировался с постоянными повторениями\n",
        "\"voice, let up of the mock turtle the mock turtle the mock turtle the mock turtle the mock turtle the mock turtle\".   \n",
        "Наилуший вариант был: \"she would get up and the repeatied of the mouse to the mouse she said to herself, and the mouse to the mouse sh\"\n",
        "2. Снижение количества нейронов в слое\n",
        "\n",
        "Лучшее:\n",
        "\"out of the words dread of any more minute as the caterpillar was the pigeon to here, she was all the rest\" - \"из слов страха еще одной минуты, как гусеница была голубем здесь, она была всем остальным\"  \n",
        "\"said, and the jury all was to many at and got but it mouse, that feet little course who was gont me near\"  - \"сказал, а присяжные все были ко многим приставлены и достали но ей мышь, что ноги мало ходила кто собирался меня рядом\""
      ]
    }
  ]
}